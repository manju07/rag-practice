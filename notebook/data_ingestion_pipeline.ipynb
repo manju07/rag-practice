{
 "cells": [
  {
   "cell_type": "markdown",
   "id": "7cb3f9e2",
   "metadata": {},
   "source": [
    "# Data Ingestion Pipeline"
   ]
  },
  {
   "cell_type": "code",
   "execution_count": null,
   "id": "9b8b2758",
   "metadata": {},
   "outputs": [],
   "source": [
    "from langchain_community.DocumentLoaders import TextLoader \n",
    "\n",
    " "
   ]
  }
 ],
 "metadata": {
  "kernelspec": {
   "display_name": ".venv",
   "language": "python",
   "name": "python3"
  },
  "language_info": {
   "name": "python",
   "version": "3.12.10"
  }
 },
 "nbformat": 4,
 "nbformat_minor": 5
}
